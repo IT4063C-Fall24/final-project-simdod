{
 "cells": [
  {
   "attachments": {},
   "cell_type": "markdown",
   "metadata": {},
   "source": [
    "# {Project Title}📝\n",
    "The Impact of Remote Work on Employee Productivity\n",
    "![Banner](./assets/banner.jpeg)"
   ]
  },
  {
   "attachments": {},
   "cell_type": "markdown",
   "metadata": {},
   "source": [
    "## Topic\n",
    "*What problem are you (or your stakeholder) trying to address?*\n",
    "📝 <!-- Answer Below -->\n",
    "I want to aim to undertsand how remote work has impacted employees especially after COVID-19. More and more companies are becoming remote so I want to show how these changes to beoming remote impact employees in a good way or bad way. "
   ]
  },
  {
   "attachments": {},
   "cell_type": "markdown",
   "metadata": {},
   "source": [
    "## Project Question\n",
    "*What specific question are you seeking to answer with this project?*\n",
    "*This is not the same as the questions you ask to limit the scope of the project.*\n",
    "📝 <!-- Answer Below -->\n",
    "1. How has remote work affected employees personal life? \n",
    "2. What are some of the benefits of remote work? As well as the negativies?\n",
    "3. How has remote work affected employee productivity?\n",
    "4. How has remote work improved or worsened employee mental health? "
   ]
  },
  {
   "attachments": {},
   "cell_type": "markdown",
   "metadata": {},
   "source": [
    "## What would an answer look like?\n",
    "*What is your hypothesized answer to your question?*\n",
    "📝 <!-- Answer Below -->\n",
    "1. Remote work has affected employees personal lives in a postitive way becuase it allows them to spend more time at homw with their families. \n",
    "2. Some benefits of remote work are that it allows employees to have a better work life balance. Some negatives are that it can be hard to communicate with coworkers.\n",
    "3. Remote work affects the productivity of employees becuase it allows them to work in a comfortable environment and at their own pace. \n",
    "4. Remote work has improved employees mental health becuase it has allowed them to be comfortable when working. "
   ]
  },
  {
   "attachments": {},
   "cell_type": "markdown",
   "metadata": {},
   "source": [
    "## Data Sources\n",
    "*What 3 data sources have you identified for this project?*\n",
    "*How are you going to relate these datasets?*\n",
    "📝 <!-- Answer Below -->\n",
    "Remote work prodcutivity dataset, remote work mental health dataset, api employee engagment \n",
    "\n",
    "kaggle kernels pull alaaabdelstar/remote-work-productivity\n",
    "\n",
    " kaggle kernels pull alaaabdelstar/remote-work-productivity-mental-health"
   ]
  },
  {
   "attachments": {},
   "cell_type": "markdown",
   "metadata": {},
   "source": [
    "## Approach and Analysis\n",
    "*What is your approach to answering your project question?*\n",
    "*How will you use the identified data to answer your project question?*\n",
    "📝 <!-- Start Discussing the project here; you can add as many code cells as you need -->\n",
    "I want to use the databasees to show how productivity has increased over the years due to remote work especially after COVID-19. I also want to show stats about how mental health has increased or decreased becuase of remote work \n",
    "using the data, i can then make a conlcusions about how remote work has improved or worsened over the years and how it has affected employees work and personal life. \n",
    "I want to merge the two datasets of productivity and mental health by using the well being score and the stree level to find out the different levels of stress. \n"
   ]
  },
  {
   "cell_type": "code",
   "execution_count": 1,
   "metadata": {},
   "outputs": [],
   "source": [
    "# Start your code here\n"
   ]
  },
  {
   "attachments": {},
   "cell_type": "markdown",
   "metadata": {},
   "source": [
    "## Resources and References\n",
    "*What resources and references have you used for this project?*\n",
    "📝 <!-- Answer Below -->"
   ]
  },
  {
   "cell_type": "code",
   "execution_count": 2,
   "metadata": {},
   "outputs": [
    {
     "name": "stdout",
     "output_type": "stream",
     "text": [
      "[NbConvertApp] Converting notebook source.ipynb to python\n",
      "[NbConvertApp] Writing 1271 bytes to source.py\n"
     ]
    }
   ],
   "source": [
    "# ⚠️ Make sure you run this cell at the end of your notebook before every submission!\n",
    "!jupyter nbconvert --to python source.ipynb"
   ]
  }
 ],
 "metadata": {
  "kernelspec": {
   "display_name": "Final-Project-Template-unx06iZ2",
   "language": "python",
   "name": "python3"
  },
  "language_info": {
   "codemirror_mode": {
    "name": "ipython",
    "version": 3
   },
   "file_extension": ".py",
   "mimetype": "text/x-python",
   "name": "python",
   "nbconvert_exporter": "python",
   "pygments_lexer": "ipython3",
   "version": "3.11.1"
  },
  "orig_nbformat": 4,
  "vscode": {
   "interpreter": {
    "hash": "8f59090b806211711d8ea6da25ee5b1ccb272a75a21b9536283520350d8dfda7"
   }
  }
 },
 "nbformat": 4,
 "nbformat_minor": 2
}
